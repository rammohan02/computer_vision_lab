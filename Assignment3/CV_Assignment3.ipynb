{
 "cells": [
  {
   "cell_type": "code",
   "execution_count": 1,
   "metadata": {},
   "outputs": [
    {
     "name": "stdout",
     "output_type": "stream",
     "text": [
      "(800, 800)\n"
     ]
    }
   ],
   "source": [
    "import cv2\n",
    "import numpy as np\n",
    "board = cv2.imread(\"board_1.jpg\")\n",
    "board = cv2.resize(board, (800, 800))\n",
    "\n",
    "gray = cv2.imread(\"board_1.jpg\", 0)\n",
    "gray = cv2.resize(gray, (800, 800))\n",
    "\n",
    "ret, thresh = cv2.threshold(gray, 40, 255, cv2.THRESH_BINARY)\n",
    "\n",
    "sobelx = cv2.Sobel(thresh, cv2.CV_64F, 1, 0, ksize=5)\n",
    "sobely = cv2.Sobel(thresh, cv2.CV_64F, 0, 1, ksize=5)\n",
    "\n",
    "print(sobelx.shape)\n",
    "cv2.imshow('edegesx',sobelx)\n",
    "cv2.imshow('edegesy',sobely)\n",
    "cv2.waitKey(0)\n",
    "cv2.destroyAllWindows()"
   ]
  },
  {
   "cell_type": "code",
   "execution_count": 3,
   "metadata": {},
   "outputs": [],
   "source": [
    "# def not_in_arr(arr, l, r):\n",
    "#     for i, j in arr.items():\n",
    "#         if(l==i and r==j):\n",
    "#             return 0\n",
    "        \n",
    "#     return 1\n",
    "\n",
    "kernelx = np.ones((20,1), np.uint8)\n",
    "edegesx = cv2.dilate(sobelx, kernelx, iterations=10)\n",
    "\n",
    "kernely = np.ones((1,20), np.uint8)\n",
    "edegesy = cv2.dilate(sobely, kernely, iterations=10)\n",
    "\n",
    "each=board.shape[1]/8-1; #Each_box #-1 is to give grace\n",
    "\n",
    "font = cv2.FONT_HERSHEY_COMPLEX_SMALL\n",
    "fontScale = 1\n",
    "color = (255, 0, 0)\n",
    "thickness = 1\n",
    "height, width = board.shape[:2]\n",
    "arr = {}\n",
    "for x in range(0, height):\n",
    "     for y in range(0, width):\n",
    "        if sobelx[x][y]!=0 and sobely[x][y]!=0:\n",
    "            l=str(int(y/each)) #0-10 will be 0 Since 10/99\n",
    "            r=str(int(x/each))\n",
    "            \n",
    "#             if(not_in_arr(arr, l, r)):\n",
    "#                 arr[l] = r;\n",
    "            text=\"(\"+l+\",\"+r+\")\"\n",
    "            if(l==8):\n",
    "                cv2.putText(board,text,(x-50, y-50),font,fontScale,color,thickness, cv2.LINE_AA)\n",
    "                board[x,y] = [255,0,0]\n",
    "            else:\n",
    "                cv2.putText(board,text,(x,y),font,fontScale,color,thickness, cv2.LINE_AA)\n",
    "                board[x, y] = [0,255,0]\n",
    "\n"
   ]
  },
  {
   "cell_type": "code",
   "execution_count": 4,
   "metadata": {},
   "outputs": [],
   "source": [
    "board = cv2.resize(board, (700, 700))\n",
    "cv2.imwrite('Points.png', board)\n",
    "# cv2.imshow('edegesx', edegesx)\n",
    "# cv2.imshow('edegesy', edegesy)\n",
    "cv2.imshow('corners', board)\n",
    "cv2.waitKey(0)\n",
    "cv2.destroyAllWindows()"
   ]
  },
  {
   "cell_type": "code",
   "execution_count": null,
   "metadata": {},
   "outputs": [],
   "source": []
  }
 ],
 "metadata": {
  "kernelspec": {
   "display_name": "Python 3",
   "language": "python",
   "name": "python3"
  },
  "language_info": {
   "codemirror_mode": {
    "name": "ipython",
    "version": 3
   },
   "file_extension": ".py",
   "mimetype": "text/x-python",
   "name": "python",
   "nbconvert_exporter": "python",
   "pygments_lexer": "ipython3",
   "version": "3.7.4"
  }
 },
 "nbformat": 4,
 "nbformat_minor": 2
}
