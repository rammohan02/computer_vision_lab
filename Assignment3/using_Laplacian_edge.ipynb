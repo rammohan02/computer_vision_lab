{
 "cells": [
  {
   "cell_type": "code",
   "execution_count": 1,
   "metadata": {},
   "outputs": [],
   "source": [
    "import cv2"
   ]
  },
  {
   "cell_type": "code",
   "execution_count": 2,
   "metadata": {},
   "outputs": [],
   "source": [
    "board = cv2.imread(\"board_1.jpg\");"
   ]
  },
  {
   "cell_type": "code",
   "execution_count": 3,
   "metadata": {},
   "outputs": [],
   "source": [
    "board = cv2.resize(board, (700, 700))\n",
    "gray = cv2.cvtColor(board, cv2.COLOR_BGR2GRAY)\n",
    "ret, thres = cv2.threshold(gray, 127, 255, cv2.THRESH_BINARY)\n",
    "\n",
    "cv2.imshow(\"Board\", board)\n",
    "cv2.imshow(\"Gray\", gray)\n",
    "cv2.imshow(\"Binary\", thres)\n",
    "\n",
    "cv2.waitKey(0)\n",
    "cv2.destroyAllWindows()\n"
   ]
  },
  {
   "cell_type": "code",
   "execution_count": 4,
   "metadata": {},
   "outputs": [],
   "source": [
    "import numpy as np\n",
    "import sys\n",
    "np.set_printoptions(threshold=sys.maxsize)\n",
    "# board\n",
    "# thres"
   ]
  },
  {
   "cell_type": "code",
   "execution_count": 5,
   "metadata": {},
   "outputs": [],
   "source": [
    "# gau = cv2.GaussianBlur(board, (3,3), 0)\n",
    "\n",
    "sobelx = cv2.Sobel(thres, cv2.CV_64F, 1, 0, ksize=9)\n",
    "sobely = cv2.Sobel(thres, cv2.CV_64F, 0, 1, ksize=9)\n",
    "\n",
    "sobel = cv2.addWeighted(sobelx, 0.5, sobely, 0.5, 0)\n",
    "\n",
    "laplacian = cv2.Laplacian(thres, cv2.CV_16S, ksize=3)\n",
    "laplacian = cv2.convertScaleAbs(laplacian)\n",
    "\n",
    "cv2.imshow(\"Binary\", thres)\n",
    "cv2.imshow(\"Edgex\", sobelx)\n",
    "cv2.imshow(\"Edgey\", sobely)\n",
    "cv2.imshow(\"Edge\", sobel)\n",
    "cv2.imshow(\"Edgelap\", laplacian)\n",
    "cv2.waitKey(0)\n",
    "cv2.destroyAllWindows()"
   ]
  },
  {
   "cell_type": "code",
   "execution_count": 6,
   "metadata": {},
   "outputs": [
    {
     "name": "stdout",
     "output_type": "stream",
     "text": [
      "700 700\n"
     ]
    }
   ],
   "source": [
    "r, w = sobel.shape\n",
    "print(r, w)"
   ]
  },
  {
   "cell_type": "code",
   "execution_count": 7,
   "metadata": {},
   "outputs": [
    {
     "name": "stdout",
     "output_type": "stream",
     "text": [
      "700 700\n"
     ]
    }
   ],
   "source": [
    "abs = cv2.convertScaleAbs(sobel)\n",
    "r, w = laplacian.shape\n",
    "print(r, w)\n",
    "\n",
    "# laplacian[699][699]\n",
    "# laplacian"
   ]
  },
  {
   "cell_type": "code",
   "execution_count": 8,
   "metadata": {},
   "outputs": [],
   "source": [
    "font = cv2.FONT_HERSHEY_SIMPLEX\n",
    "fontScale = 1\n",
    "color = (255, 0, 0)\n",
    "thickness = 1\n",
    "# img1 = cv2.putText(laplacian, \"origin\", (100, 100), font, fontScale, color, thickness, cv2.LINE_AA)\n",
    "l=0\n",
    "r=0\n",
    "img = board\n",
    "for i in range(len(laplacian)):\n",
    "    for j in range(len(laplacian[i])):\n",
    "        if(i<699 and j<699):\n",
    "            if((laplacian[i][j]==255 and laplacian[i][j-1]!=255 and laplacian[i-1][j]!=255 and laplacian[i+1][j]==255) or \n",
    "               (laplacian[i][j]==255 and laplacian[i][j+1]!=255 and laplacian[i-1][j]!=255 and laplacian[i+1][j]==255) or \n",
    "               (laplacian[i][j]==255 and laplacian[i-1][j]==255 and laplacian[i+1][j]==255 and \n",
    "               laplacian[i][j-1]==255 and laplacian[i][j+1]==255 and laplacian[i-1][j+1]!=255) or \n",
    "               (laplacian[i][j]==255 and laplacian[i-1][j]==255 and laplacian[i][j-1]==255 and laplacian[i+1][j]!=255 and \n",
    "                laplacian[i][j+1]!=255 and laplacian[i-1][j+1]!=255) or \n",
    "               (laplacian[i][j]==255 and laplacian[i][j-1]==255 and laplacian[i][j+1]!=255 and laplacian[i+1][j]==255 and \n",
    "                laplacian[i-1][j]!=255 ) or \n",
    "               (laplacian[i][j]==255 and laplacian[i-1][j]==255 and laplacian[i][j+1]!=255 and laplacian[i+1][j]!=255 and \n",
    "                laplacian[i][j-1]==255 and laplacian[i-1][j+1]!=255)):\n",
    "#                 l=l+1\n",
    "#                 text = str(l)\n",
    "                text = \"(\"+str(l) + \",\"+str(r)+\")\"\n",
    "                img = cv2.putText(img, text, (i, j), font, fontScale, color, thickness, cv2.LINE_AA)\n",
    "                \n",
    "                if(l==7 and r==0):\n",
    "                    img = cv2.putText(img, \"(8,0)\", (750, 0), font, fontScale, color, thickness, cv2.LINE_AA)\n",
    "                \n",
    "                if(l<7):\n",
    "                    l=l+1\n",
    "                else:\n",
    "                    l=0\n",
    "                    r=r+1\n"
   ]
  },
  {
   "cell_type": "code",
   "execution_count": 9,
   "metadata": {},
   "outputs": [],
   "source": [
    "cv2.imshow(\"Edgelap\", laplacian)\n",
    "cv2.imshow(\"wrote\", img)\n",
    "cv2.waitKey(0)\n",
    "cv2.destroyAllWindows()"
   ]
  },
  {
   "cell_type": "code",
   "execution_count": null,
   "metadata": {},
   "outputs": [],
   "source": [
    "found, corners = cv2.findChessboardCorners(thres, (700, 700))"
   ]
  },
  {
   "cell_type": "code",
   "execution_count": null,
   "metadata": {},
   "outputs": [],
   "source": [
    "found"
   ]
  },
  {
   "cell_type": "code",
   "execution_count": null,
   "metadata": {},
   "outputs": [],
   "source": [
    "cv2.imshow(\"corners\", corners)\n",
    "cv2.waitKey(0)\n",
    "cv2.destroyAllWindows()"
   ]
  },
  {
   "cell_type": "code",
   "execution_count": null,
   "metadata": {},
   "outputs": [],
   "source": []
  }
 ],
 "metadata": {
  "kernelspec": {
   "display_name": "Python 3",
   "language": "python",
   "name": "python3"
  },
  "language_info": {
   "codemirror_mode": {
    "name": "ipython",
    "version": 3
   },
   "file_extension": ".py",
   "mimetype": "text/x-python",
   "name": "python",
   "nbconvert_exporter": "python",
   "pygments_lexer": "ipython3",
   "version": "3.7.4"
  }
 },
 "nbformat": 4,
 "nbformat_minor": 2
}
