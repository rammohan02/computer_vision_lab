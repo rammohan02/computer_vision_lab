{
 "cells": [
  {
   "cell_type": "code",
   "execution_count": null,
   "metadata": {},
   "outputs": [],
   "source": [
    "import cv2"
   ]
  },
  {
   "cell_type": "code",
   "execution_count": null,
   "metadata": {},
   "outputs": [],
   "source": [
    "board = cv2.imread(\"board_1.jpg\");"
   ]
  },
  {
   "cell_type": "code",
   "execution_count": null,
   "metadata": {},
   "outputs": [],
   "source": [
    "board = cv2.resize(board, (700, 700))\n",
    "# gau = cv2.GaussianBlur(board, (3,3), 0)\n",
    "gray = cv2.cvtColor(board, cv2.COLOR_BGR2GRAY)\n",
    "ret, thres = cv2.threshold(gray, 127, 255, cv2.THRESH_BINARY)\n",
    "\n",
    "cv2.imshow(\"Board\", board)\n",
    "cv2.imshow(\"Gray\", gray)\n",
    "cv2.imshow(\"Binary\", thres)\n",
    "\n",
    "cv2.waitKey(0)\n",
    "cv2.destroyAllWindows()"
   ]
  },
  {
   "cell_type": "code",
   "execution_count": null,
   "metadata": {},
   "outputs": [],
   "source": [
    "import numpy as np\n",
    "import sys\n",
    "np.set_printoptions(threshold=sys.maxsize)\n",
    "thres"
   ]
  },
  {
   "cell_type": "code",
   "execution_count": null,
   "metadata": {},
   "outputs": [],
   "source": [
    "laplacian = cv2.Laplacian(thres, cv2.CV_16S, ksize=9)\n",
    "\n",
    "cv2.imshow(\"Edgelap\", laplacian)\n",
    "cv2.waitKey(0)\n",
    "cv2.destroyAllWindows()"
   ]
  },
  {
   "cell_type": "code",
   "execution_count": null,
   "metadata": {},
   "outputs": [],
   "source": [
    "abs = cv2.convertScaleAbs(laplacian)\n",
    "abs"
   ]
  },
  {
   "cell_type": "code",
   "execution_count": null,
   "metadata": {},
   "outputs": [],
   "source": [
    "font = cv2.FONT_HERSHEY_SIMPLEX\n",
    "fontScale = 1\n",
    "color = (255, 0, 0)\n",
    "thickness = 1\n",
    "# img1 = cv2.putText(laplacian, \"origin\", (100, 100), font, fontScale, color, thickness, cv2.LINE_AA)\n",
    "l=0\n",
    "r=0\n",
    "img = board\n",
    "for i in range(len(laplacian)):\n",
    "    for j in range(len(laplacian[i])):\n",
    "        if(i<699 and j<699):\n",
    "            if((laplacian[i][j]==255 and laplacian[i][j-1]!=255 and laplacian[i-1][j]!=255 and laplacian[i+1][j]==255) or \n",
    "               (laplacian[i][j]==255 and laplacian[i][j+1]!=255 and laplacian[i-1][j]!=255 and laplacian[i+1][j]==255) or \n",
    "               (laplacian[i][j]==255 and laplacian[i-1][j]==255 and laplacian[i+1][j]==255 and \n",
    "               laplacian[i][j-1]==255 and laplacian[i][j+1]==255 and laplacian[i-1][j+1]!=255) or \n",
    "               (laplacian[i][j]==255 and laplacian[i-1][j]==255 and laplacian[i][j-1]==255 and laplacian[i+1][j]!=255 and \n",
    "                laplacian[i][j+1]!=255 and laplacian[i-1][j+1]!=255) or \n",
    "               (laplacian[i][j]==255 and laplacian[i][j-1]==255 and laplacian[i][j+1]!=255 and laplacian[i+1][j]==255 and \n",
    "                laplacian[i-1][j]!=255 ) or \n",
    "               (laplacian[i][j]==255 and laplacian[i-1][j]==255 and laplacian[i][j+1]!=255 and laplacian[i+1][j]!=255 and \n",
    "                laplacian[i][j-1]==255 and laplacian[i-1][j+1]!=255)):\n",
    "#                 l=l+1\n",
    "#                 text = str(l)\n",
    "#                 text = \"(\"+str(l) + \", \"+str(r)+\")\"\n",
    "                img = cv2.putText(img, \"1\", (i, j), font, fontScale, color, thickness, cv2.LINE_AA)\n",
    "                \n",
    "                if(l<7):\n",
    "                    l=l+1\n",
    "                else:\n",
    "                    l=0\n",
    "                    r=r+1\n"
   ]
  },
  {
   "cell_type": "code",
   "execution_count": null,
   "metadata": {},
   "outputs": [],
   "source": [
    "cv2.imshow(\"Edgelap\", laplacian)\n",
    "cv2.imshow(\"wrote\", img)\n",
    "cv2.waitKey(0)\n",
    "cv2.destroyAllWindows()"
   ]
  },
  {
   "cell_type": "markdown",
   "metadata": {},
   "source": [
    "# Binary Image traverse"
   ]
  },
  {
   "cell_type": "code",
   "execution_count": null,
   "metadata": {},
   "outputs": [],
   "source": [
    "import cv2\n",
    "board = cv2.imread(\"board_1.jpg\");\n",
    "board1 = board\n",
    "# board = cv2.resize(board, (700, 700))\n",
    "# gau = cv2.GaussianBlur(board, (3,3), 0)\n",
    "gray = cv2.cvtColor(board, cv2.COLOR_BGR2GRAY)\n",
    "ret, thres = cv2.threshold(gray, 127, 255, cv2.THRESH_BINARY)\n",
    "\n",
    "cv2.imshow(\"Board\", board)\n",
    "cv2.imshow(\"Gray\", gray)\n",
    "cv2.imshow(\"Binary\", thres)\n",
    "\n",
    "cv2.waitKey(0)\n",
    "cv2.destroyAllWindows()"
   ]
  },
  {
   "cell_type": "code",
   "execution_count": null,
   "metadata": {},
   "outputs": [],
   "source": [
    "import numpy as np\n",
    "import sys\n",
    "np.set_printoptions(threshold=sys.maxsize)\n",
    "thres"
   ]
  },
  {
   "cell_type": "code",
   "execution_count": null,
   "metadata": {},
   "outputs": [],
   "source": [
    "l=0\n",
    "r=0\n",
    "font = cv2.FONT_HERSHEY_COMPLEX_SMALL\n",
    "fontScale = 1\n",
    "color = (255, 0, 0)\n",
    "thickness = 1\n",
    "img1 = board1\n",
    "for i in range(len(thres)-1):\n",
    "    for j in range(len(thres[i])-1):\n",
    "        if((thres[i][j]==0 and thres[i][j+1]==255 and thres[i+1][j]==255 and thres[i+1][j+1]==0) or \n",
    "           (thres[i][j]==255 and thres[i][j+1]==0 and thres[i+1][j]==0 and thres[i+1][j+1]==255)):\n",
    "            text = \"(\"+str(l)+\",\"+str(r)+\")\"\n",
    "            img1 = cv2.putText(img1, text, (i, j), font, fontScale, color, thickness, cv2.LINE_AA)\n",
    "            l=l+1\n",
    "            r=r+1\n"
   ]
  },
  {
   "cell_type": "code",
   "execution_count": null,
   "metadata": {},
   "outputs": [],
   "source": [
    "img1 = cv2.resize(img1, (700, 700))\n",
    "cv2.imwrite(\"Binary_inner.png\", img1)\n",
    "cv2.imshow(\"wrote1\", img1)\n",
    "cv2.waitKey(0)\n",
    "cv2.destroyAllWindows()"
   ]
  },
  {
   "cell_type": "code",
   "execution_count": null,
   "metadata": {},
   "outputs": [],
   "source": [
    "l=0\n",
    "r=0\n",
    "font = cv2.FONT_HERSHEY_COMPLEX_SMALL\n",
    "fontScale = 1\n",
    "color = (255, 0, 0)\n",
    "thickness = 1\n",
    "img = board\n",
    "height, width = board.shape[:2]\n",
    "for i in range(height):\n",
    "    for j in range(width):\n",
    "        if((thres[i][j]==255 and thres[i][j-1]==0 and thres[i][j+1]==255 and thres[i+1][j]==255 and thres[i-1][j]==0) or \n",
    "           (thres[i][j]==255 and thres[i][j-1]==255 and thres[i+1][j]==255 and thres[i-1][j]!=255 and thres[i][j+1]!=255) or \n",
    "           (thres[i][j]==255 and thres[i][j+1]==0 and thres[i][j-1]==255 and thres[i-1][j]==255 and thres[i+1][j]==0 and thres[i+1][j+1]==0)):\n",
    "            text = \"(\"+str(l)+\",\"+str(r)+\")\"\n",
    "            img = cv2.putText(img, text, (i, j), font, fontScale, color, thickness, cv2.LINE_AA)\n",
    "            l=l+1\n",
    "            r=r+1\n",
    "        \n",
    "        "
   ]
  },
  {
   "cell_type": "code",
   "execution_count": null,
   "metadata": {},
   "outputs": [],
   "source": [
    "# cv2.imshow(\"Edgelap\", laplacian)\n",
    "img = cv2.resize(img, (700, 700))\n",
    "cv2.imwrite(\"Binary_outer.png\", img)\n",
    "cv2.imshow(\"wrote\", img)\n",
    "cv2.waitKey(0)\n",
    "cv2.destroyAllWindows()"
   ]
  },
  {
   "cell_type": "code",
   "execution_count": null,
   "metadata": {},
   "outputs": [],
   "source": [
    "elif(thres[i][j]==255 and thres[i][j-1]==255 and thres[i+1][j]==255 and thres[i-1][j]==0 and thres[i][j+1]==0):\n",
    "            text = \"(\"+str(l)+\",\"+str(r)+\")\"\n",
    "            img = cv2.putText(img, text, (i, j), font, fontScale, color, thickness, cv2.LINE_AA)\n",
    "            l=l+1\n",
    "            r=r+1"
   ]
  },
  {
   "cell_type": "code",
   "execution_count": null,
   "metadata": {},
   "outputs": [],
   "source": [
    " and thres[i+1][j+1]!=255 and thres[i-1][j+1]!=255 and thres[i-1][j-1]!=255 and thres[i+1][j-1]==255"
   ]
  },
  {
   "cell_type": "markdown",
   "metadata": {},
   "source": [
    "# Dialation"
   ]
  },
  {
   "cell_type": "code",
   "execution_count": null,
   "metadata": {},
   "outputs": [],
   "source": [
    "import cv2\n",
    "board = cv2.imread(\"board_1.jpg\")\n",
    "board = cv2.resize(board, (800, 800))\n",
    "# gau = cv2.GaussianBlur(board, (3,3), 0)\n",
    "gray = cv2.cvtColor(board, cv2.COLOR_BGR2GRAY)\n",
    "ret, thres = cv2.threshold(gray, 40, 255, cv2.THRESH_BINARY)\n",
    "\n",
    "cv2.imshow(\"Board\", board)\n",
    "cv2.imshow(\"Gray\", gray)\n",
    "cv2.imshow(\"Binary\", thres)\n",
    "\n",
    "cv2.waitKey(0)\n",
    "cv2.destroyAllWindows()"
   ]
  },
  {
   "cell_type": "code",
   "execution_count": null,
   "metadata": {},
   "outputs": [],
   "source": [
    "sobelx = cv2.Sobel(thres, cv2.CV_64F, 1, 0, ksize=5)\n",
    "sobely = cv2.Sobel(thres, cv2.CV_64F, 0, 1, ksize=5)\n",
    "\n",
    "cv2.imshow(\"Sobelx\", sobelx)\n",
    "cv2.imshow(\"Sobely\", sobely)\n",
    "\n",
    "cv2.waitKey(0)\n",
    "cv2.destroyAllWindows()"
   ]
  },
  {
   "cell_type": "code",
   "execution_count": null,
   "metadata": {},
   "outputs": [],
   "source": [
    "h, w = board.shape[:2]\n",
    "h, w"
   ]
  },
  {
   "cell_type": "code",
   "execution_count": null,
   "metadata": {},
   "outputs": [],
   "source": [
    "h, w = board.shape[:2]\n",
    "\n",
    "l=0\n",
    "r=0\n",
    "part = board.shape[1]/8\n",
    "font = cv2.FONT_HERSHEY_COMPLEX_SMALL\n",
    "fontScale = 1\n",
    "color = (255, 0, 0)\n",
    "thickness = 1\n",
    "# img = board\n",
    "for i in range(h):\n",
    "    for j in range(w):\n",
    "        if(sobelx[i,j]!=0 and sobely[i,j]!=0):\n",
    "            b=str(int(i/part))\n",
    "            c=str(int(j/part))\n",
    "#             a=\"(\"+str(l)+\",\"+str(r)+\")\"\n",
    "            a=\"(\"+b+\",\"+c+\")\"\n",
    "            cv2.putText(board, a, (int(i+part), int(j+part)), font, fontScale, color, thickness, cv2.LINE_AA)\n",
    "            l=l+1\n",
    "            r=r+1\n",
    "            "
   ]
  },
  {
   "cell_type": "code",
   "execution_count": null,
   "metadata": {},
   "outputs": [],
   "source": [
    "board = cv2.resize(board, (700, 700))\n",
    "cv2.imshow(\"coord\", board)\n",
    "cv2.waitKey(0)\n",
    "cv2.destroyAllWindows()"
   ]
  },
  {
   "cell_type": "code",
   "execution_count": null,
   "metadata": {},
   "outputs": [],
   "source": [
    "import numpy as np\n",
    "import sys\n",
    "np.set_printoptions(threshold=sys.maxsize)\n",
    "sobelx = cv2.convertScaleAbs(sobelx)\n",
    "sobelx"
   ]
  }
 ],
 "metadata": {
  "kernelspec": {
   "display_name": "Python 3",
   "language": "python",
   "name": "python3"
  },
  "language_info": {
   "codemirror_mode": {
    "name": "ipython",
    "version": 3
   },
   "file_extension": ".py",
   "mimetype": "text/x-python",
   "name": "python",
   "nbconvert_exporter": "python",
   "pygments_lexer": "ipython3",
   "version": "3.7.4"
  }
 },
 "nbformat": 4,
 "nbformat_minor": 2
}
